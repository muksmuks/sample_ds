{
  "nbformat": 4,
  "nbformat_minor": 0,
  "metadata": {
    "colab": {
      "name": "First.ipynb",
      "provenance": [],
      "authorship_tag": "ABX9TyP9+0bMCImY63eSSZL+s2GJ",
      "include_colab_link": true
    },
    "kernelspec": {
      "name": "python3",
      "display_name": "Python 3"
    }
  },
  "cells": [
    {
      "cell_type": "markdown",
      "metadata": {
        "id": "view-in-github",
        "colab_type": "text"
      },
      "source": [
        "<a href=\"https://colab.research.google.com/github/muksmuks/sample_ds/blob/master/session_1/First.ipynb\" target=\"_parent\"><img src=\"https://colab.research.google.com/assets/colab-badge.svg\" alt=\"Open In Colab\"/></a>"
      ]
    },
    {
      "cell_type": "markdown",
      "metadata": {
        "id": "pFSFbVq0ASP_",
        "colab_type": "text"
      },
      "source": [
        "#This is heading\n"
      ]
    },
    {
      "cell_type": "markdown",
      "metadata": {
        "id": "CLX2tBdHAsha",
        "colab_type": "text"
      },
      "source": [
        "##This is sub-heading\n"
      ]
    },
    {
      "cell_type": "code",
      "metadata": {
        "id": "Jb9DegrI_rMN",
        "colab_type": "code",
        "colab": {
          "base_uri": "https://localhost:8080/",
          "height": 194
        },
        "outputId": "47e189f0-b567-43e8-84b7-df6bb5a2a2d5"
      },
      "source": [
        "for i in range(10):\n",
        "  print(i)"
      ],
      "execution_count": 1,
      "outputs": [
        {
          "output_type": "stream",
          "text": [
            "0\n",
            "1\n",
            "2\n",
            "3\n",
            "4\n",
            "5\n",
            "6\n",
            "7\n",
            "8\n",
            "9\n"
          ],
          "name": "stdout"
        }
      ]
    },
    {
      "cell_type": "markdown",
      "metadata": {
        "id": "qwJI2VfoA1AM",
        "colab_type": "text"
      },
      "source": [
        "**BOLD**\n",
        "_Tilted_\n",
        "\n",
        "\n",
        "\n",
        "~~This is no longer valid~~\n",
        "\n",
        "\n",
        "\n",
        "- [x] Task 1\n",
        "- [ ] Task 2"
      ]
    },
    {
      "cell_type": "markdown",
      "metadata": {
        "id": "HnPA2ywoBPtr",
        "colab_type": "text"
      },
      "source": [
        "$$\n",
        "\\int_0 ^ \\infty x^2dx\n",
        "$$"
      ]
    }
  ]
}